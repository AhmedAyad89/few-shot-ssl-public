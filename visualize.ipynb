{
 "cells": [
  {
   "cell_type": "code",
   "execution_count": null,
   "metadata": {
    "collapsed": true
   },
   "outputs": [],
   "source": [
    "from __future__ import (absolute_import, division, print_function,\n",
    "                        unicode_literals)\n",
    "\n",
    "import datetime\n",
    "import json\n",
    "import os\n",
    "import numpy as np\n",
    "import six\n",
    "import tensorflow as tf\n",
    "from tensorflow.python import debug as tf_debug\n",
    "\n",
    "from fewshot.configs.config_factory import get_config\n",
    "from fewshot.configs.mini_imagenet_config import *\n",
    "from fewshot.configs.omniglot_config import *\n",
    "from fewshot.configs.tiered_imagenet_config import *\n",
    "from fewshot.data.data_factory import get_concurrent_iterator\n",
    "from fewshot.data.data_factory import get_dataset\n",
    "from fewshot.data.episode import Episode\n",
    "from fewshot.data.mini_imagenet import MiniImageNetDataset\n",
    "from fewshot.data.omniglot import OmniglotDataset\n",
    "from fewshot.data.tiered_imagenet import TieredImageNetDataset\n",
    "from fewshot.models.basic_model import BasicModel\n",
    "from fewshot.models.kmeans_refine_mask_model import KMeansRefineMaskModel\n",
    "from fewshot.models.kmeans_refine_model import KMeansRefineModel\n",
    "from fewshot.models.kmeans_refine_radius_model import KMeansRefineRadiusModel\n",
    "from fewshot.models.basic_model_VAT import BasicModelVAT\n",
    "from fewshot.models.measure import batch_apk\n",
    "from fewshot.models.model_factory import get_model\n",
    "from fewshot.utils import logger\n",
    "from fewshot.utils.experiment_logger import ExperimentLogger\n",
    "from fewshot.utils.lr_schedule import FixedLearnRateScheduler\n",
    "from tqdm import tqdm"
   ]
  },
  {
   "cell_type": "code",
   "execution_count": null,
   "metadata": {},
   "outputs": [],
   "source": [
    "dataset='mini-imagenet'\n",
    "aug_90 = False\n",
    "\t\n",
    "# Which training split to use.\n",
    "train_split_name = 'train'\n",
    "test_split_name = 'test'\t #test/val\n",
    "\n",
    "num_test = 5\n",
    "nclasses_train = 20\n",
    "nclasses_eval = 5\n",
    "nshot = 1\n",
    "num_unlabel = 10\n",
    "seed=0"
   ]
  },
  {
   "cell_type": "code",
   "execution_count": null,
   "metadata": {},
   "outputs": [],
   "source": [
    "meta_train_dataset = get_dataset(\n",
    "\t\tdataset,\n",
    "\t\ttrain_split_name,\n",
    "\t\tnclasses_train,\n",
    "\t\tnshot,\n",
    "\t\tnum_test=num_test,\n",
    "\t\taug_90=aug_90,\n",
    "\t\tnum_unlabel=num_unlabel,\n",
    "\t\tshuffle_episode=False,\n",
    "\t\tseed=seed)"
   ]
  }
 ],
 "metadata": {
  "kernelspec": {
   "display_name": "Python 2",
   "language": "python",
   "name": "python2"
  },
  "language_info": {
   "codemirror_mode": {
    "name": "ipython",
    "version": 2.0
   },
   "file_extension": ".py",
   "mimetype": "text/x-python",
   "name": "python",
   "nbconvert_exporter": "python",
   "pygments_lexer": "ipython2",
   "version": "2.7.6"
  }
 },
 "nbformat": 4,
 "nbformat_minor": 0
}